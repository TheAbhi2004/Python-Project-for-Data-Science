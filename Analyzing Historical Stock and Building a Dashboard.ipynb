{
 "cells": [
  {
   "cell_type": "code",
   "execution_count": 10,
   "id": "07fa6f8a-0efd-4997-9f7b-a6e0c6a0d7db",
   "metadata": {},
   "outputs": [],
   "source": [
    "import yfinance as yf\n",
    "import pandas as pd\n",
    "import requests\n",
    "from bs4 import BeautifulSoup\n",
    "import plotly.graph_objects as go\n",
    "from plotly.subplots import make_subplots"
   ]
  },
  {
   "cell_type": "code",
   "execution_count": 14,
   "id": "c9406898-bd66-4eca-9c8e-1e4d3698b2b3",
   "metadata": {},
   "outputs": [],
   "source": [
    "import warnings\n",
    "warnings.filterwarnings(\"ignore\", category=FutureWarning)"
   ]
  },
  {
   "cell_type": "code",
   "execution_count": 2,
   "id": "150584c3-202e-4534-a9cf-bf351a9502bf",
   "metadata": {},
   "outputs": [],
   "source": [
    "import plotly.io as pio\n",
    "pio.renderers.default = \"iframe\""
   ]
  },
  {
   "cell_type": "markdown",
   "id": "85955464-5358-461b-83a6-53acc0a0739c",
   "metadata": {},
   "source": [
    "###In Python, you can ignore warnings using the warnings module. You can use the filterwarnings function to filter or ignore specific warning messages or categories."
   ]
  },
  {
   "cell_type": "code",
   "execution_count": 3,
   "id": "c4fa29dc-fe13-4baf-9258-f04770aa0cde",
   "metadata": {},
   "outputs": [],
   "source": [
    "import warnings\n",
    "# Ignore all warnings\n",
    "warnings.filterwarnings(\"ignore\", category=FutureWarning)"
   ]
  },
  {
   "cell_type": "code",
   "execution_count": 21,
   "id": "6dadb1f7-b866-4d59-b16b-5566c50771c5",
   "metadata": {},
   "outputs": [
    {
     "name": "stdout",
     "output_type": "stream",
     "text": [
      "make_graph function defined with date filtering and AttributeError fix!\n"
     ]
    }
   ],
   "source": [
    "# Define Graphing Function\n",
    "def make_graph(stock_data, revenue_data, stock_name):\n",
    "    fig = make_subplots(rows=2, cols=1, shared_xaxes=True,\n",
    "                        subplot_titles=(\"Historical Share Price\", \"Historical Revenue\"),\n",
    "                        vertical_spacing = .3)\n",
    "\n",
    "    # 1. Ensure 'Date' columns are datetime and handle errors\n",
    "    stock_data[\"Date\"] = pd.to_datetime(stock_data[\"Date\"], errors='coerce')\n",
    "    revenue_data[\"Date\"] = pd.to_datetime(revenue_data[\"Date\"], errors='coerce')\n",
    "\n",
    "    # Filter stock data\n",
    "    stock_data_filtered = stock_data[stock_data['Date'] <= '2021-06-30']\n",
    "\n",
    "    # Filter revenue data\n",
    "    revenue_data_filtered = revenue_data[revenue_data['Date'] <= '2021-06-30']\n",
    "\n",
    "\n",
    "    # 3. Ensure 'Close' and 'Revenue' are numeric and drop NaNs (after filtering)\n",
    "    stock_data_filtered['Close'] = pd.to_numeric(stock_data_filtered['Close'], errors='coerce')\n",
    "    revenue_data_filtered['Revenue'] = pd.to_numeric(revenue_data_filtered['Revenue'], errors='coerce')\n",
    "\n",
    "    stock_data_filtered.dropna(subset=['Date', 'Close'], inplace=True)\n",
    "    revenue_data_filtered.dropna(subset=['Date', 'Revenue'], inplace=True)\n",
    "\n",
    "    # 4. Sort data by Date for correct plotting order\n",
    "    stock_data_filtered.sort_values(by='Date', inplace=True)\n",
    "    revenue_data_filtered.sort_values(by='Date', inplace=True)\n",
    "    revenue_data_filtered.reset_index(drop=True, inplace=True)\n",
    "\n",
    "    # 5. Add traces to the figure\n",
    "    fig.add_trace(go.Scatter(x=stock_data_filtered.Date, y=stock_data_filtered.Close.astype(\"float\"),\n",
    "                             name=\"Share Price\"), row=1, col=1)\n",
    "    fig.add_trace(go.Scatter(x=revenue_data_filtered.Date, y=revenue_data_filtered.Revenue.astype(\"float\"),\n",
    "                             name=\"Revenue\"), row=2, col=1)\n",
    "    # 6. Update layout and show figure\n",
    "    fig.update_xaxes(title_text=\"Date\", rangeslider_visible=True)\n",
    "    fig.update_yaxes(title_text=\"Price ($US)\", row=1, col=1)\n",
    "    fig.update_yaxes(title_text=\"Revenue ($US Millions)\", row=2, col=1)\n",
    "    fig.update_layout(showlegend=False,\n",
    "                      height=600,\n",
    "                      title_text=stock_name)\n",
    "    fig.show()\n",
    "print(\"make_graph function defined with date filtering and AttributeError fix!\")"
   ]
  },
  {
   "cell_type": "code",
   "execution_count": 24,
   "id": "77ea6824-abd9-4965-9b4f-01fc0108fc1e",
   "metadata": {},
   "outputs": [
    {
     "name": "stdout",
     "output_type": "stream",
     "text": [
      "First five rows of Tesla Stock Data:\n",
      "                       Date      Open      High       Low     Close  \\\n",
      "0 2010-06-29 00:00:00-04:00  1.266667  1.666667  1.169333  1.592667   \n",
      "1 2010-06-30 00:00:00-04:00  1.719333  2.028000  1.553333  1.588667   \n",
      "2 2010-07-01 00:00:00-04:00  1.666667  1.728000  1.351333  1.464000   \n",
      "3 2010-07-02 00:00:00-04:00  1.533333  1.540000  1.247333  1.280000   \n",
      "4 2010-07-06 00:00:00-04:00  1.333333  1.333333  1.055333  1.074000   \n",
      "\n",
      "      Volume  Dividends  Stock Splits  \n",
      "0  281494500        0.0           0.0  \n",
      "1  257806500        0.0           0.0  \n",
      "2  123282000        0.0           0.0  \n",
      "3   77097000        0.0           0.0  \n",
      "4  103003500        0.0           0.0  \n"
     ]
    }
   ],
   "source": [
    "# Question 1: Use yfinance to Extract Stock Data (Tesla)\n",
    "tesla = yf.Ticker(\"TSLA\")\n",
    "tesla_data = tesla.history(period=\"max\")\n",
    "tesla_data.reset_index(inplace=True) # Ensures 'Date' is a column\n",
    "\n",
    "# *Crucial Check for 'Date' column after reset_index*\n",
    "tesla_data['Date'] = pd.to_datetime(tesla_data['Date'], errors='coerce')\n",
    "tesla_data.dropna(subset=['Date'], inplace=True) # Remove rows if date conversion failed\n",
    "\n",
    "print(\"First five rows of Tesla Stock Data:\")\n",
    "print(tesla_data.head())"
   ]
  },
  {
   "cell_type": "code",
   "execution_count": 25,
   "id": "3dbd7d75-5436-42a8-9aa0-a189e3890a65",
   "metadata": {},
   "outputs": [
    {
     "name": "stdout",
     "output_type": "stream",
     "text": [
      "\n",
      "Last five rows of Cleaned Tesla Revenue Data:\n",
      "         Date  Revenue\n",
      "48 2021-09-30  13757.0\n",
      "49 2021-12-31  17719.0\n",
      "50 2022-03-31  18756.0\n",
      "51 2022-06-30  16934.0\n",
      "52 2022-09-30  21454.0\n"
     ]
    }
   ],
   "source": [
    "# Question 2: Use Webscraping to Extract Tesla Revenue Data\n",
    "url_tesla_revenue = \"https://cf-courses-data.s3.us.cloud-object-storage.appdomain.cloud/IBMDeveloperSkillsNetwork-PY0220EN-SkillsNetwork/labs/project/revenue.htm\"\n",
    "html_data_tesla = requests.get(url_tesla_revenue).text\n",
    "soup_tesla = BeautifulSoup(html_data_tesla, 'html.parser')\n",
    "\n",
    "read_html_pandas_data_tesla = pd.read_html(url_tesla_revenue)\n",
    "tesla_revenue = read_html_pandas_data_tesla[1]\n",
    "\n",
    "tesla_revenue.columns = [\"Date\", \"Revenue\"]\n",
    "\n",
    "tesla_revenue[\"Revenue\"] = tesla_revenue[\"Revenue\"].str.replace(r'\\$|,', \"\", regex=True)\n",
    "\n",
    "# Convert to numeric and drop NaNs\n",
    "tesla_revenue['Revenue'] = pd.to_numeric(tesla_revenue['Revenue'], errors='coerce')\n",
    "tesla_revenue.dropna(subset=['Revenue'], inplace=True)\n",
    "\n",
    "# *Crucial Check for 'Date' column conversion and sorting*\n",
    "tesla_revenue['Date'] = pd.to_datetime(tesla_revenue['Date'], errors='coerce')\n",
    "tesla_revenue.dropna(subset=['Date'], inplace=True)\n",
    "tesla_revenue.sort_values(by='Date', inplace=True)\n",
    "tesla_revenue.reset_index(drop=True, inplace=True) # Ensures index is clean after sorting\n",
    "\n",
    "print(\"\\nLast five rows of Cleaned Tesla Revenue Data:\")\n",
    "print(tesla_revenue.tail())"
   ]
  },
  {
   "cell_type": "code",
   "execution_count": 26,
   "id": "4c7cce30-13a9-4c17-9906-e14e1b1e7e30",
   "metadata": {},
   "outputs": [
    {
     "name": "stdout",
     "output_type": "stream",
     "text": [
      "\n",
      "First five rows of GameStop Stock Data:\n",
      "                       Date      Open      High       Low     Close    Volume  \\\n",
      "0 2002-02-13 00:00:00-05:00  1.620129  1.693350  1.603296  1.691667  76216000   \n",
      "1 2002-02-14 00:00:00-05:00  1.712707  1.716074  1.670626  1.683250  11021600   \n",
      "2 2002-02-15 00:00:00-05:00  1.683250  1.687458  1.658001  1.674834   8389600   \n",
      "3 2002-02-19 00:00:00-05:00  1.666418  1.666418  1.578048  1.607504   7410400   \n",
      "4 2002-02-20 00:00:00-05:00  1.615921  1.662210  1.603296  1.662210   6892800   \n",
      "\n",
      "   Dividends  Stock Splits  \n",
      "0        0.0           0.0  \n",
      "1        0.0           0.0  \n",
      "2        0.0           0.0  \n",
      "3        0.0           0.0  \n",
      "4        0.0           0.0  \n"
     ]
    }
   ],
   "source": [
    "# Question 3: Use yfinance to Extract Stock Data (GameStop)\n",
    "gamestop = yf.Ticker(\"GME\")\n",
    "gme_data = gamestop.history(period=\"max\")\n",
    "gme_data.reset_index(inplace=True) # Ensures 'Date' is a column\n",
    "\n",
    "# *Crucial Check for 'Date' column after reset_index*\n",
    "gme_data['Date'] = pd.to_datetime(gme_data['Date'], errors='coerce')\n",
    "gme_data.dropna(subset=['Date'], inplace=True) # Remove rows if date conversion failed\n",
    "\n",
    "print(\"\\nFirst five rows of GameStop Stock Data:\")\n",
    "print(gme_data.head())"
   ]
  },
  {
   "cell_type": "code",
   "execution_count": 30,
   "id": "e7cbc02f-be6b-4696-bfbc-8965c80cf266",
   "metadata": {},
   "outputs": [
    {
     "name": "stdout",
     "output_type": "stream",
     "text": [
      "An unexpected error occurred during GME revenue data processing: No tables found\n"
     ]
    },
    {
     "name": "stderr",
     "output_type": "stream",
     "text": [
      "C:\\Users\\KIIT0001\\AppData\\Local\\Temp\\ipykernel_22180\\3645553713.py:8: XMLParsedAsHTMLWarning:\n",
      "\n",
      "It looks like you're using an HTML parser to parse an XML document.\n",
      "\n",
      "Assuming this really is an XML document, what you're doing might work, but you should know that using an XML parser will be more reliable. To parse this document as XML, make sure you have the Python package 'lxml' installed, and pass the keyword argument `features=\"xml\"` into the BeautifulSoup constructor.\n",
      "\n",
      "If you want or need to use an HTML parser on this document, you can make this warning go away by filtering it. To do that, run this code before calling the BeautifulSoup constructor:\n",
      "\n",
      "    from bs4 import XMLParsedAsHTMLWarning\n",
      "    import warnings\n",
      "\n",
      "    warnings.filterwarnings(\"ignore\", category=XMLParsedAsHTMLWarning)\n",
      "\n",
      "\n",
      "C:\\Users\\KIIT0001\\AppData\\Local\\Programs\\Python\\Python313\\Lib\\site-packages\\pandas\\io\\html.py:661: XMLParsedAsHTMLWarning:\n",
      "\n",
      "It looks like you're using an HTML parser to parse an XML document.\n",
      "\n",
      "Assuming this really is an XML document, what you're doing might work, but you should know that using an XML parser will be more reliable. To parse this document as XML, make sure you have the Python package 'lxml' installed, and pass the keyword argument `features=\"xml\"` into the BeautifulSoup constructor.\n",
      "\n",
      "If you want or need to use an HTML parser on this document, you can make this warning go away by filtering it. To do that, run this code before calling the BeautifulSoup constructor:\n",
      "\n",
      "    from bs4 import XMLParsedAsHTMLWarning\n",
      "    import warnings\n",
      "\n",
      "    warnings.filterwarnings(\"ignore\", category=XMLParsedAsHTMLWarning)\n",
      "\n",
      "\n"
     ]
    }
   ],
   "source": [
    "# Question 4: Use Webscraping to Extract GME Revenue Data\n",
    "url_gme_revenue = \" https://cf-courses-data.s3.us.cloud-object-storage.appdomain.cloud/IBMDeveloperSkillsNetwork-PY0220EN-SkillsNetwork/labs/project/stock.html.\"\n",
    "\n",
    "headers = {'User-Agent': 'Mozilla/5.0 (Windows NT 10.0; Win64; x64) AppleWebKit/537.36 (KHTML, like Gecko) Chrome/91.0.4472.124 Safari/537.36'}\n",
    "\n",
    "try:\n",
    "    html_data_gme = requests.get(url_gme_revenue, headers=headers).text\n",
    "    soup_gme = BeautifulSoup(html_data_gme, 'html.parser')\n",
    "\n",
    "    read_html_pandas_data_gme = pd.read_html(html_data_gme) # Use html_data_gme here, not URL\n",
    "    gme_revenue = read_html_pandas_data_gme[1] # Assuming it's the second table\n",
    "\n",
    "    # Rename columns (Macrotrends tables often have numbered columns initially)\n",
    "    if gme_revenue.shape[1] >= 2:\n",
    "        gme_revenue.columns = [\"Date\", \"Revenue\"]\n",
    "    else:\n",
    "        print(\"Warning: Table might not have expected 'Date' and 'Revenue' columns after read_html.\")\n",
    "        print(gme_revenue.head())\n",
    "\n",
    "    gme_revenue[\"Revenue\"] = gme_revenue[\"Revenue\"].str.replace(r'\\$|,', \"\", regex=True)\n",
    "\n",
    "    gme_revenue['Revenue'] = pd.to_numeric(gme_revenue['Revenue'], errors='coerce')\n",
    "    gme_revenue.dropna(subset=['Revenue'], inplace=True)\n",
    "\n",
    "    # *Crucial Check for 'Date' column conversion and sorting*\n",
    "    gme_revenue['Date'] = pd.to_datetime(gme_revenue['Date'], errors='coerce')\n",
    "    gme_revenue.dropna(subset=['Date'], inplace=True)\n",
    "    gme_revenue.sort_values(by='Date', inplace=True)\n",
    "    gme_revenue.reset_index(drop=True, inplace=True)\n",
    "\n",
    "    print(\"\\nLast five rows of Cleaned GameStop Revenue Data:\")\n",
    "    print(gme_revenue.tail())\n",
    "    print(\"\\nInfo on GameStop Revenue Data:\")\n",
    "    print(gme_revenue.info()) # Check data types and columns\n",
    "\n",
    "except requests.exceptions.RequestException as e:\n",
    "    print(f\"Error fetching data from {url_gme_revenue}: {e}\")\n",
    "    print(\"Please check the URL or contact your instructor for an alternative data source.\")\n",
    "    gme_revenue = pd.DataFrame(columns=[\"Date\", \"Revenue\"])\n",
    "except IndexError:\n",
    "    print(\"Error: Could not find the expected table structure using pd.read_html[1].\")\n",
    "    print(\"Please inspect the webpage HTML at the URL to find the correct table index or parsing method.\")\n",
    "    gme_revenue = pd.DataFrame(columns=[\"Date\", \"Revenue\"])\n",
    "except Exception as e:\n",
    "    print(f\"An unexpected error occurred during GME revenue data processing: {e}\")\n",
    "    gme_revenue = pd.DataFrame(columns=[\"Date\", \"Revenue\"])"
   ]
  },
  {
   "cell_type": "code",
   "execution_count": 28,
   "id": "5690aa05-bf25-4859-9eb8-9713251bff81",
   "metadata": {},
   "outputs": [
    {
     "name": "stdout",
     "output_type": "stream",
     "text": [
      "\n",
      "Generating graph for Tesla Stock and Revenue...\n"
     ]
    },
    {
     "name": "stderr",
     "output_type": "stream",
     "text": [
      "C:\\Users\\KIIT0001\\AppData\\Local\\Temp\\ipykernel_22180\\1154754995.py:19: SettingWithCopyWarning:\n",
      "\n",
      "\n",
      "A value is trying to be set on a copy of a slice from a DataFrame.\n",
      "Try using .loc[row_indexer,col_indexer] = value instead\n",
      "\n",
      "See the caveats in the documentation: https://pandas.pydata.org/pandas-docs/stable/user_guide/indexing.html#returning-a-view-versus-a-copy\n",
      "\n",
      "C:\\Users\\KIIT0001\\AppData\\Local\\Temp\\ipykernel_22180\\1154754995.py:20: SettingWithCopyWarning:\n",
      "\n",
      "\n",
      "A value is trying to be set on a copy of a slice from a DataFrame.\n",
      "Try using .loc[row_indexer,col_indexer] = value instead\n",
      "\n",
      "See the caveats in the documentation: https://pandas.pydata.org/pandas-docs/stable/user_guide/indexing.html#returning-a-view-versus-a-copy\n",
      "\n",
      "C:\\Users\\KIIT0001\\AppData\\Local\\Temp\\ipykernel_22180\\1154754995.py:22: SettingWithCopyWarning:\n",
      "\n",
      "\n",
      "A value is trying to be set on a copy of a slice from a DataFrame\n",
      "\n",
      "See the caveats in the documentation: https://pandas.pydata.org/pandas-docs/stable/user_guide/indexing.html#returning-a-view-versus-a-copy\n",
      "\n",
      "C:\\Users\\KIIT0001\\AppData\\Local\\Temp\\ipykernel_22180\\1154754995.py:23: SettingWithCopyWarning:\n",
      "\n",
      "\n",
      "A value is trying to be set on a copy of a slice from a DataFrame\n",
      "\n",
      "See the caveats in the documentation: https://pandas.pydata.org/pandas-docs/stable/user_guide/indexing.html#returning-a-view-versus-a-copy\n",
      "\n",
      "C:\\Users\\KIIT0001\\AppData\\Local\\Temp\\ipykernel_22180\\1154754995.py:26: SettingWithCopyWarning:\n",
      "\n",
      "\n",
      "A value is trying to be set on a copy of a slice from a DataFrame\n",
      "\n",
      "See the caveats in the documentation: https://pandas.pydata.org/pandas-docs/stable/user_guide/indexing.html#returning-a-view-versus-a-copy\n",
      "\n",
      "C:\\Users\\KIIT0001\\AppData\\Local\\Temp\\ipykernel_22180\\1154754995.py:27: SettingWithCopyWarning:\n",
      "\n",
      "\n",
      "A value is trying to be set on a copy of a slice from a DataFrame\n",
      "\n",
      "See the caveats in the documentation: https://pandas.pydata.org/pandas-docs/stable/user_guide/indexing.html#returning-a-view-versus-a-copy\n",
      "\n"
     ]
    },
    {
     "data": {
      "text/html": [
       "<iframe\n",
       "    scrolling=\"no\"\n",
       "    width=\"100%\"\n",
       "    height=\"620\"\n",
       "    src=\"iframe_figures/figure_28.html\"\n",
       "    frameborder=\"0\"\n",
       "    allowfullscreen\n",
       "></iframe>\n"
      ]
     },
     "metadata": {},
     "output_type": "display_data"
    }
   ],
   "source": [
    "# Question 5: Plot Tesla Stock Graph\n",
    "print(\"\\nGenerating graph for Tesla Stock and Revenue...\")\n",
    "if not tesla_data.empty and not tesla_revenue.empty:\n",
    "    make_graph(tesla_data, tesla_revenue, 'Tesla Stock and Revenue History')\n",
    "else:\n",
    "    print(\"Tesla data is not available for plotting. Please check previous steps.\")"
   ]
  },
  {
   "cell_type": "code",
   "execution_count": 29,
   "id": "d6a33d49-f009-4b1c-9d33-1ca7c5786bfe",
   "metadata": {},
   "outputs": [
    {
     "name": "stdout",
     "output_type": "stream",
     "text": [
      "\n",
      "Generating graph for GameStop Stock and Revenue...\n"
     ]
    },
    {
     "name": "stderr",
     "output_type": "stream",
     "text": [
      "C:\\Users\\KIIT0001\\AppData\\Local\\Temp\\ipykernel_22180\\1154754995.py:19: SettingWithCopyWarning:\n",
      "\n",
      "\n",
      "A value is trying to be set on a copy of a slice from a DataFrame.\n",
      "Try using .loc[row_indexer,col_indexer] = value instead\n",
      "\n",
      "See the caveats in the documentation: https://pandas.pydata.org/pandas-docs/stable/user_guide/indexing.html#returning-a-view-versus-a-copy\n",
      "\n",
      "C:\\Users\\KIIT0001\\AppData\\Local\\Temp\\ipykernel_22180\\1154754995.py:20: SettingWithCopyWarning:\n",
      "\n",
      "\n",
      "A value is trying to be set on a copy of a slice from a DataFrame.\n",
      "Try using .loc[row_indexer,col_indexer] = value instead\n",
      "\n",
      "See the caveats in the documentation: https://pandas.pydata.org/pandas-docs/stable/user_guide/indexing.html#returning-a-view-versus-a-copy\n",
      "\n",
      "C:\\Users\\KIIT0001\\AppData\\Local\\Temp\\ipykernel_22180\\1154754995.py:22: SettingWithCopyWarning:\n",
      "\n",
      "\n",
      "A value is trying to be set on a copy of a slice from a DataFrame\n",
      "\n",
      "See the caveats in the documentation: https://pandas.pydata.org/pandas-docs/stable/user_guide/indexing.html#returning-a-view-versus-a-copy\n",
      "\n",
      "C:\\Users\\KIIT0001\\AppData\\Local\\Temp\\ipykernel_22180\\1154754995.py:23: SettingWithCopyWarning:\n",
      "\n",
      "\n",
      "A value is trying to be set on a copy of a slice from a DataFrame\n",
      "\n",
      "See the caveats in the documentation: https://pandas.pydata.org/pandas-docs/stable/user_guide/indexing.html#returning-a-view-versus-a-copy\n",
      "\n",
      "C:\\Users\\KIIT0001\\AppData\\Local\\Temp\\ipykernel_22180\\1154754995.py:26: SettingWithCopyWarning:\n",
      "\n",
      "\n",
      "A value is trying to be set on a copy of a slice from a DataFrame\n",
      "\n",
      "See the caveats in the documentation: https://pandas.pydata.org/pandas-docs/stable/user_guide/indexing.html#returning-a-view-versus-a-copy\n",
      "\n",
      "C:\\Users\\KIIT0001\\AppData\\Local\\Temp\\ipykernel_22180\\1154754995.py:27: SettingWithCopyWarning:\n",
      "\n",
      "\n",
      "A value is trying to be set on a copy of a slice from a DataFrame\n",
      "\n",
      "See the caveats in the documentation: https://pandas.pydata.org/pandas-docs/stable/user_guide/indexing.html#returning-a-view-versus-a-copy\n",
      "\n"
     ]
    },
    {
     "data": {
      "text/html": [
       "<iframe\n",
       "    scrolling=\"no\"\n",
       "    width=\"100%\"\n",
       "    height=\"620\"\n",
       "    src=\"iframe_figures/figure_29.html\"\n",
       "    frameborder=\"0\"\n",
       "    allowfullscreen\n",
       "></iframe>\n"
      ]
     },
     "metadata": {},
     "output_type": "display_data"
    }
   ],
   "source": [
    "# Question 6: Plot GameStop Stock Graph\n",
    "print(\"\\nGenerating graph for GameStop Stock and Revenue...\")\n",
    "# Check if gme_data and gme_revenue are not empty before plotting\n",
    "if not gme_data.empty and not gme_revenue.empty:\n",
    "    make_graph(gme_data, gme_revenue, 'GameStop Stock and Revenue History')\n",
    "else:\n",
    "    print(\"GameStop data is not available for plotting. Please check previous steps (especially Q4).\")"
   ]
  },
  {
   "cell_type": "code",
   "execution_count": null,
   "id": "f26108a4-d7e8-462f-9168-d743a34eedba",
   "metadata": {},
   "outputs": [],
   "source": []
  }
 ],
 "metadata": {
  "kernelspec": {
   "display_name": "Python 3 (ipykernel)",
   "language": "python",
   "name": "python3"
  },
  "language_info": {
   "codemirror_mode": {
    "name": "ipython",
    "version": 3
   },
   "file_extension": ".py",
   "mimetype": "text/x-python",
   "name": "python",
   "nbconvert_exporter": "python",
   "pygments_lexer": "ipython3",
   "version": "3.13.2"
  }
 },
 "nbformat": 4,
 "nbformat_minor": 5
}
